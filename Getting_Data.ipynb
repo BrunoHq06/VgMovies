{
 "cells": [
  {
   "cell_type": "markdown",
   "metadata": {},
   "source": [
    "## Libs"
   ]
  },
  {
   "cell_type": "code",
   "execution_count": null,
   "metadata": {},
   "outputs": [],
   "source": [
    "from selenium import webdriver\r\n",
    "from selenium.webdriver.common.action_chains import ActionChains\r\n",
    "from selenium.webdriver.common.keys import Keys\r\n",
    "import pandas as pd\r\n",
    "import numpy as np\r\n",
    "from scipy import stats\r\n",
    "import re\r\n",
    "import time\r\n",
    "import matplotlib.pyplot as plt"
   ]
  },
  {
   "cell_type": "markdown",
   "metadata": {},
   "source": [
    "## Pre Processing"
   ]
  },
  {
   "cell_type": "code",
   "execution_count": null,
   "metadata": {},
   "outputs": [],
   "source": [
    "movie = pd.read_html('https://en.wikipedia.org/wiki/List_of_films_based_on_video_games')[0]"
   ]
  },
  {
   "cell_type": "code",
   "execution_count": null,
   "metadata": {},
   "outputs": [],
   "source": [
    "movie = movie[['Title','Rotten Tomatoes']]\r\n",
    "movie_filter = (movie['Rotten Tomatoes'] != 'TBA')\r\n",
    "\r\n",
    "movie = movie[movie_filter]\r\n",
    "movie = movie[:-1]"
   ]
  },
  {
   "cell_type": "code",
   "execution_count": null,
   "metadata": {},
   "outputs": [],
   "source": [
    "rotten_ref = movie['Rotten Tomatoes'].str.split(\"[\", n=1,expand=True)[1]\r\n",
    "rotten_ref = rotten_ref.str.split(\"]\", n=1,expand=True)[0]\r\n",
    "rotten_ref\r\n"
   ]
  },
  {
   "cell_type": "markdown",
   "metadata": {},
   "source": [
    "## Web Scraping"
   ]
  },
  {
   "cell_type": "code",
   "execution_count": null,
   "metadata": {},
   "outputs": [],
   "source": [
    "link_array = []\r\n",
    "critc_array = []\r\n",
    "audi_array = []\r\n",
    "\r\n",
    "\r\n",
    "n = 0\r\n",
    "\r\n",
    "driver = webdriver.Chrome()\r\n",
    "\r\n",
    "\r\n",
    "for ref in rotten_ref:\r\n",
    "    \r\n",
    "    try:\r\n",
    "\r\n",
    "        driver.get('https://en.wikipedia.org/wiki/List_of_films_based_on_video_games')\r\n",
    "        xpath_link = '/html/body/div[3]/div[3]/div[5]/div[1]/div[6]/div/ol/li[{}]/span[2]/cite/a[1]'.format(ref)\r\n",
    "        tomatoes_link = driver.find_element_by_xpath(xpath_link)\r\n",
    "        time.sleep(3)\r\n",
    "        tomatoes_link.click()\r\n",
    "\r\n",
    "        rotte_info = driver.find_element_by_xpath('/html/body/div[5]/div[3]/section/div[2]/div[2]/score-board').text\r\n",
    "        crict_note = rotte_info.split('\\n')[2]\r\n",
    "        audi_note = rotte_info.split('\\n')[5]\r\n",
    "\r\n",
    "        critc_array.append(crict_note)\r\n",
    "        audi_array.append(audi_note)\r\n",
    "\r\n",
    "        driver.get('https://en.wikipedia.org/wiki/List_of_films_based_on_video_games')\r\n",
    "\r\n",
    "    except:\r\n",
    "\r\n",
    "        critc_array.append('Nan')\r\n",
    "        audi_array.append('Nan')\r\n",
    "        driver.get('https://en.wikipedia.org/wiki/List_of_films_based_on_video_games')\r\n",
    "    \r\n",
    "    pass\r\n",
    "\r\n",
    "\r\n",
    "\r\n",
    "\r\n",
    "\r\n"
   ]
  },
  {
   "cell_type": "markdown",
   "metadata": {},
   "source": [
    "## Final Touches"
   ]
  },
  {
   "cell_type": "code",
   "execution_count": null,
   "metadata": {},
   "outputs": [],
   "source": [
    "print(critc_array, audi_array)\r\n"
   ]
  },
  {
   "cell_type": "code",
   "execution_count": null,
   "metadata": {},
   "outputs": [],
   "source": [
    "movie['Critics Rating %'] = critc_array\r\n",
    "movie['Audience Rating %'] = audi_array\r\n",
    "\r\n",
    "movie = movie.drop('Rotten Tomatoes',axis=1)\r\n",
    "\r\n",
    "movie['Critics Rating %'] = movie['Critics Rating %'].str.replace('%','')\r\n",
    "movie['Audience Rating %'] = movie['Audience Rating %'].str.replace('%','')\r\n",
    "\r\n",
    "movie['Critics Rating %'] = pd.to_numeric(movie['Critics Rating %'], errors='coerce')\r\n",
    "movie['Audience Rating %'] = pd.to_numeric(movie['Audience Rating %'], errors='coerce')"
   ]
  },
  {
   "cell_type": "code",
   "execution_count": null,
   "metadata": {},
   "outputs": [],
   "source": [
    "x = movie['Critics Rating']\r\n",
    "y = movie['Audience Rating']\r\n"
   ]
  },
  {
   "cell_type": "code",
   "execution_count": null,
   "metadata": {},
   "outputs": [],
   "source": [
    "movie.to_excel('movie_data.xlsx')"
   ]
  },
  {
   "cell_type": "markdown",
   "metadata": {},
   "source": [
    "## Game Notes"
   ]
  },
  {
   "cell_type": "code",
   "execution_count": 156,
   "metadata": {},
   "outputs": [],
   "source": [
    "names = pd.read_excel('movie_data.xlsx')\r\n",
    "names = names['Title']\r\n",
    "names = names.to_list("
   ]
  },
  {
   "cell_type": "code",
   "execution_count": 158,
   "metadata": {},
   "outputs": [
    {
     "name": "stdout",
     "output_type": "stream",
     "text": [
      "Reference: Detective Pikachu -------- Name: Detective Pikachu ---- Rating : 71\n",
      "Not Found\n",
      "Not Found\n",
      "Not Found\n",
      "Not Found\n",
      "Not Found\n",
      "Not Found\n",
      "Not Found\n",
      "Not Found\n",
      "Not Found\n",
      "Reference: Sonic the Hedgehog -------- Name: 3D Sonic the Hedgehog 2 ---- Rating : 87\n",
      "Reference: Sonic the Hedgehog -------- Name: Sega Ages: Sonic the Hedgehog 2 ---- Rating : 83\n",
      "Reference: Sonic the Hedgehog -------- Name: Sonic the Hedgehog 2 ---- Rating : 82\n",
      "Reference: Sonic the Hedgehog -------- Name: Sonic the Hedgehog 4: Episode I ---- Rating : 81\n",
      "Reference: Sonic the Hedgehog -------- Name: 3D Sonic the Hedgehog ---- Rating : 81\n",
      "Reference: Sonic the Hedgehog -------- Name: Sonic the Hedgehog 3 ---- Rating : 79\n",
      "Reference: Sonic the Hedgehog -------- Name: Sonic the Hedgehog (Live Arcade) ---- Rating : 77\n",
      "Reference: Sonic the Hedgehog -------- Name: Sega Ages: Sonic the Hedgehog ---- Rating : 77\n",
      "Reference: Sonic the Hedgehog -------- Name: Sonic the Hedgehog 4: Episode I ---- Rating : 74\n",
      "Reference: Sonic the Hedgehog -------- Name: Sonic the Hedgehog 4: Episode I ---- Rating : 72\n",
      "Reference: Monster Hunter -------- Name: Monster Hunter: World ---- Rating : 90\n",
      "Reference: Monster Hunter -------- Name: Monster Hunter: World ---- Rating : 90\n",
      "Reference: Monster Hunter -------- Name: Monster Hunter: World - Iceborne ---- Rating : 90\n",
      "Reference: Monster Hunter -------- Name: Monster Hunter: World - Iceborne ---- Rating : 89\n",
      "Reference: Monster Hunter -------- Name: Monster Hunter: World ---- Rating : 88\n",
      "Reference: Monster Hunter -------- Name: Monster Hunter Rise ---- Rating : 88\n",
      "Reference: Monster Hunter -------- Name: Monster Hunter: World - Iceborne ---- Rating : 87\n",
      "Reference: Monster Hunter -------- Name: Monster Hunter 4 Ultimate ---- Rating : 86\n",
      "Reference: Monster Hunter -------- Name: Monster Hunter Freedom Unite for iOS ---- Rating : 86\n",
      "Reference: Monster Hunter -------- Name: Monster Hunter Generations ---- Rating : 85\n",
      "Reference: Mortal Kombat -------- Name: Mortal Kombat 11 Ultimate ---- Rating : 91\n",
      "Reference: Mortal Kombat -------- Name: Mortal Kombat 11 Ultimate ---- Rating : 90\n",
      "Reference: Mortal Kombat -------- Name: Mortal Kombat Komplete Edition ---- Rating : 88\n",
      "Reference: Mortal Kombat -------- Name: Mortal Kombat 11 Ultimate ---- Rating : 88\n",
      "Reference: Mortal Kombat -------- Name: Mortal Kombat 11 Ultimate ---- Rating : 88\n",
      "Reference: Mortal Kombat -------- Name: Mortal Kombat ---- Rating : 86\n",
      "Reference: Mortal Kombat -------- Name: Mortal Kombat X ---- Rating : 86\n",
      "Reference: Mortal Kombat -------- Name: Mortal Kombat 11 ---- Rating : 86\n",
      "Reference: Mortal Kombat -------- Name: Mortal Kombat ---- Rating : 85\n",
      "Reference: Mortal Kombat -------- Name: Mortal Kombat XL ---- Rating : 85\n",
      "Reference: Werewolves Within -------- Name: Werewolves Within ---- Rating : 76\n",
      "Reference: Werewolves Within -------- Name: Werewolves Within ---- Rating : tbd\n",
      "Not Found\n",
      "Not Found\n",
      "Not Found\n",
      "Not Found\n",
      "Not Found\n",
      "Not Found\n",
      "Not Found\n",
      "Not Found\n"
     ]
    }
   ],
   "source": [
    "driver = webdriver.Chrome()\r\n",
    "driver.get('https://www.metacritic.com/')\r\n",
    "\r\n",
    "title_game_array = []\r\n",
    "rating_game_array = []\r\n",
    "reference_array = []\r\n",
    "\r\n",
    "search_box = driver.find_element_by_xpath('/html/body/div[1]/div[1]/div[2]/header/nav/nav[2]/div[1]/div[2]/div/form/input[1]')\r\n",
    "\r\n",
    "for name in names:\r\n",
    "\r\n",
    "    search_box.click()\r\n",
    "    search_box.send_keys(name)\r\n",
    "    search_box.send_keys(Keys.ENTER)\r\n",
    "    \r\n",
    "    time.sleep(5)\r\n",
    "\r\n",
    "    game_button = driver.find_element_by_xpath('/html/body/div[2]/div/div/div/div[2]/div/div[3]/a/span[1]')\r\n",
    "    game_button.click()\r\n",
    "\r\n",
    "    time.sleep(5)\r\n",
    "\r\n",
    "    score_button = driver.find_element_by_xpath('/html/body/div[2]/div/div/div/div[2]/div/div[4]/div[1]/div[3]/a')\r\n",
    "    score_button.click()\r\n",
    "\r\n",
    "    search_box = driver.find_element_by_xpath('/html/body/div[2]/div/header/nav/nav[2]/div[1]/div[2]/div/form/input[1]')\r\n",
    "\r\n",
    "    for i in range(1,11):\r\n",
    "\r\n",
    "        try:\r\n",
    "            \r\n",
    "            game_rating_path = '/html/body/div[2]/div/div/div/div[3]/div/ul/li[{}]/div/div[2]/div/span'.format(i)\r\n",
    "            game_name_path = '/html/body/div[2]/div/div/div/div[3]/div/ul/li[{}]/div/div[2]/div/h3/a'.format(i)\r\n",
    "            game_rating = driver.find_element_by_xpath(game_rating_path).text\r\n",
    "            game_name = driver.find_element_by_xpath(game_name_path).text\r\n",
    "\r\n",
    "            title_game_array.append(game_name)\r\n",
    "            rating_game_array.append(game_rating)\r\n",
    "            reference_array.append(name)\r\n",
    "\r\n",
    "            aux = 'Reference: {} -------- Name: {} ---- Rating : {}'.format(name, game_name, game_rating)\r\n",
    "            print(aux)\r\n",
    "\r\n",
    "        except:\r\n",
    "\r\n",
    "            print('Not Found')\r\n",
    "            title_game_array.append('Nan')\r\n",
    "            rating_game_array.append('Nan')\r\n",
    "            reference_array.append(name)\r\n",
    "\r\n",
    "        pass\r\n",
    "\r\n",
    "driver.close()"
   ]
  },
  {
   "cell_type": "code",
   "execution_count": 159,
   "metadata": {},
   "outputs": [],
   "source": [
    "meta = pd.DataFrame(title_game_array)\r\n",
    "meta['Rating'] = rating_game_array\r\n",
    "meta['Reference'] = reference_array\r\n",
    "\r\n",
    "meta.to_excel('meta.xlsx')"
   ]
  }
 ],
 "metadata": {
  "interpreter": {
   "hash": "66d7c0815ee3ec39f8a25542b36e8def4dce34ad6588e623c666e441b334d01c"
  },
  "kernelspec": {
   "display_name": "Python 3.7.6 64-bit ('base': conda)",
   "name": "python3"
  },
  "language_info": {
   "codemirror_mode": {
    "name": "ipython",
    "version": 3
   },
   "file_extension": ".py",
   "mimetype": "text/x-python",
   "name": "python",
   "nbconvert_exporter": "python",
   "pygments_lexer": "ipython3",
   "version": "3.7.6"
  },
  "orig_nbformat": 4
 },
 "nbformat": 4,
 "nbformat_minor": 2
}